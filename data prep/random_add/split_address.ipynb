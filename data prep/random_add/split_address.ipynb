{
 "cells": [
  {
   "cell_type": "code",
   "execution_count": 1,
   "metadata": {},
   "outputs": [],
   "source": [
    "import pandas as pd\n",
    "import re\n",
    "from nltk import word_tokenize"
   ]
  },
  {
   "cell_type": "code",
   "execution_count": 2,
   "metadata": {},
   "outputs": [],
   "source": [
    "df = pd.read_excel('address_rd_split (copy).xlsx')"
   ]
  },
  {
   "cell_type": "code",
   "execution_count": 3,
   "metadata": {},
   "outputs": [],
   "source": [
    "address = df.values.tolist()"
   ]
  },
  {
   "cell_type": "code",
   "execution_count": 4,
   "metadata": {},
   "outputs": [],
   "source": [
    "def clean_address(address):\n",
    "    typo = {\"Meanchey\":\"Mean Chey\",\n",
    "            \"Kamdal\":\"Kandal\",\n",
    "            \"Sihanoukville\": \"Sihanouk\",\n",
    "            \"Chamkarmon\": \"Chamkar Mon\",\n",
    "            \"Village\": \"\",\n",
    "            \"Commune\": \"\",\n",
    "            \"District\": \"\",\n",
    "            \"Province\": \"\",\n",
    "            \"Beoung\": \"Boeung\",\n",
    "            \"Sangkat\": \"\", \n",
    "            \"Tonle Bassac\": \"Tonle Basak\",\n",
    "            \"Por Sen Chey\": \"Por Senchey\",\n",
    "            \"Ponhea Leu\": \"Ponhea Lueu\",\n",
    "            \"Oulampik\": \"Olympic\",\n",
    "            \"7 Makara\": \"Prampir Meakkakra\"} \n",
    "\n",
    "    abbr = {\"BKK\" : \"Boeng Keng Kang\",\n",
    "            \"\\bTK\\b\": \"Toul Kork\",\n",
    "            \" Str \": \" Street \",\n",
    "            \" st \":\" Street \",}                    \n",
    "\n",
    "\n",
    "    cleaning = {re.compile('\\\\-+|\\\\:+|\\\\$+'): '',\n",
    "                re.compile('\\\\b(\\\\d+)(\\\\s+\\\\1\\\\b)+'): ', ',\n",
    "                re.compile('\\\\(|\\\\)'): '',\n",
    "                re.compile(',+\\s+,+'): ',',\n",
    "                re.compile('\\s+,\\s+'): ', ',\n",
    "                re.compile('^,|,$'): '',\n",
    "                re.compile('\\s+'): ' ',\n",
    "                re.compile('^\\s+|\\s+$'): '',\n",
    "                re.compile('`'): '\\''}    \n",
    "\n",
    "    pattern = '|'.join(sorted(re.escape(k) for k in typo))    \n",
    "    pattern_1 = '|'.join(sorted(re.escape(k) for k in abbr)) \n",
    "\n",
    "    def multiple_replace(myDict, text):\n",
    "        for rx,repl in myDict.items():\n",
    "            text = rx.sub(repl, text)\n",
    "        return text\n",
    "\n",
    "    if len(address) == 1:\n",
    "        address1 = [re.sub(pattern, lambda m: typo.get(m.group(0)), x, flags=re.IGNORECASE) for x in address]\n",
    "        address2 = [re.sub(pattern_1, lambda m: abbr.get(m.group(0)), x, flags=re.IGNORECASE) for x in address1]\n",
    "        address3 = [multiple_replace(cleaning, x) for x in address2]\n",
    "        return address3\n",
    "\n",
    "    else:\n",
    "\n",
    "        address1 = [[re.sub(pattern, lambda m: typo.get(m.group(0)), x, flags=re.IGNORECASE) for x in l] for l in address]\n",
    "        address2 = [[re.sub(pattern_1, lambda m: abbr.get(m.group(0)), x, flags=re.IGNORECASE) for x in l] for l in address1]\n",
    "        address3 = [[multiple_replace(cleaning, x) for x in l] for l in address2]\n",
    "\n",
    "        return address3          \n",
    "             "
   ]
  },
  {
   "cell_type": "code",
   "execution_count": 5,
   "metadata": {},
   "outputs": [],
   "source": [
    "address_clean = clean_address(address)"
   ]
  },
  {
   "cell_type": "code",
   "execution_count": 6,
   "metadata": {},
   "outputs": [],
   "source": [
    "ls = []\n",
    "for x in address_clean:\n",
    "    for i in x:\n",
    "        tk = word_tokenize(i)\n",
    "    ls.append(tk)"
   ]
  },
  {
   "cell_type": "code",
   "execution_count": 7,
   "metadata": {},
   "outputs": [],
   "source": [
    "cl = pd.DataFrame({\"address\": [(\" \".join(x)) for x in address_clean],\n",
    "                \"tokenize\": [(\" \".join(x)) for x in ls]})                "
   ]
  },
  {
   "cell_type": "code",
   "execution_count": 8,
   "metadata": {},
   "outputs": [],
   "source": [
    "cl_1 = cl['tokenize'].str.split(expand=True)"
   ]
  },
  {
   "cell_type": "code",
   "execution_count": 9,
   "metadata": {},
   "outputs": [],
   "source": [
    "final = cl.join(cl_1)"
   ]
  },
  {
   "cell_type": "code",
   "execution_count": 10,
   "metadata": {},
   "outputs": [],
   "source": [
    "final = final.drop(['tokenize'], axis=1)"
   ]
  },
  {
   "cell_type": "code",
   "execution_count": 11,
   "metadata": {},
   "outputs": [],
   "source": [
    "# final.to_excel('final_clean.xlsx', index=False)"
   ]
  },
  {
   "cell_type": "code",
   "execution_count": 12,
   "metadata": {},
   "outputs": [],
   "source": [
    "street = ['Corner Street 13 & 102, SangKat Wat Phnom, Khan Daun Penh, Phnom Penh',\n",
    "'Corner Street 13 & 102, SangKat Wat Phnom, Khan Daun Penh, Phnom Penh', \n",
    "'Corner Street 13 & 102, Sang Kat Wat Phnom, Khan Daun Penh, Phnom Penh',\n",
    "'# 488 BC Eo, St. Moev Seng Toung, Sangkat Toek la ork I, Khan Toul kork, Phnom Penh',\n",
    "'Russian Bola vat ,Sangkat Ka Kap, Khan Por Sen Chey, Phnom Penh',\n",
    "'# 217, St. Monica Ray, Sangkat Boeng Salang, Tuol Kork, Phnom Penh',\n",
    "'# 115. 113, Street 199, Sangkat Toul Svay Prey II, Khan Chamkamorn, Phnom Penh', \n",
    "'# 09 C, National Highway 1, Village Boeung Chhouk, Sangkat Niroth, Khan Chbar am pov,Phnom Penh',\n",
    "'# 289, St. Ville (274), Sangkat Veal Vong, Khan 7 Makara, Phnom Penh',\n",
    "'Phnom Penh International Airport, Russian Federation, Kakap Sangkat, Khan Por Sen Chey, Phnom Penh',\n",
    "'# 528, Group 4, National Highway 5, Sangkat Chrang Chamres 1, Khan Russey Keo, Phnom Penh',\n",
    "'National Highway 6 ,Village 6, Sangkat Kampong Thom, Krung Stoeng Sen City, Kampong Thom Province',\n",
    "'2nd Street, village center, Sangkat Kampong Pranak, Kroung Preah Vihear, Preah Vihear Province',\n",
    "'St. Poukambor, Sangkat Svay Dongkom, Krong Siem Reap (17252), Siem Reap Province',\n",
    "'14 villages, Khemarakphumin, Sangkat Kampong Cham, Krung Kampong Cham, Kampong Cham Province',\n",
    "'Road 1, Mephleung Village, Sangkat Svay Rieng, Svay Rieng City, Svay Rieng Province',\n",
    "'Route 1 (Reuters river), 2 Village, Sangkat Phtas Prey, Krung Pursat , Pursat Province',\n",
    "'1, Sangkat Khsam, Krung Kampong Chhnang, Kampong Chhnang Province',\n",
    "'Street Corner 105 & 206, Takmao Village, Sangkat Takmao,Krung Takmao, Kandal', \n",
    "'Village 3, Sangkat Kampong Leav, Krung Prey Veng, Prey Vengn Province', \n",
    "'Village 3, Sangkat Preah Ponlea,Krung Serey Sophorn, Banteay Meanchey Province', \n",
    "'Route 1, Kamakor Village, Sangkat Svaypor, Krunng Battambang, Battambang Province',\n",
    "'Route 12, Kratie Village, Sangkat Kratie, Krung Kratie, Kratie (opposite the roundabout Dragon Fountain)',\n",
    "'Road No. 78, Phum Apivath, Sangkat Labarnseik, Krung Banlung, Ratanakiri Province',\n",
    "'Phum Prek, Street 63, Sangkat Stung Treng, Krung Stung Treng, Stung Treng Province', \n",
    "'Route 735 (along the creek), Phum May 1, Krung Kampot, Kampot Province',\n",
    "'Corner road 22A & 2316, Phum Kep, Sangkat Kep, Krung Kep, Kep Province',\n",
    "'1-Phsar Ler, Sangkat 2,Krung Preah Sihanouk, Phreah Sihanouk Province',\n",
    "'2- Krung 27, Phum 3,Sangkat 3, KrungPreah Sihanouk, Preah Sihanouk Province',\n",
    "'Village 1, Sangkat Smach Meanchey, Krung Khemrakphumin, Koh Kong Province',\n",
    "'Phum Wat, Sangkat Pailin, Krung Pailin, Pailin Province',\n",
    "'Chhouk Village, Sangkat Samrong, Krung Samrong, Oddarmeanchey Province',\n",
    "'Phum Pi, Sangkat Rorkaknoung, Krung Dounkeo, Takeo Province',\n",
    "'Phum Daohkramoum, Sangkat Sokhadom, Krung Senmonorom, Mondulkiri Province',\n",
    "'Road 4, Phum Samnoeng, Sangkat Rokarthom, Krung Chbamorn, Kampong Speu Provice',\n",
    "'Phum Soungkert, Sangkat Soung, Krung Suong. Thbungkhmum Province']"
   ]
  },
  {
   "cell_type": "code",
   "execution_count": 13,
   "metadata": {},
   "outputs": [],
   "source": [
    "str_ls = []\n",
    "for x in street:\n",
    "    str_ls.append(word_tokenize(x))"
   ]
  },
  {
   "cell_type": "code",
   "execution_count": 14,
   "metadata": {},
   "outputs": [
    {
     "data": {
      "text/plain": [
       "[['Corner Street 13 & 102, SangKat Wat Phnom, Khan Daun Penh, Phnom Penh'],\n",
       " ['Corner Street 13 & 102, SangKat Wat Phnom, Khan Daun Penh, Phnom Penh'],\n",
       " ['Corner Street 13 & 102, Sang Kat Wat Phnom, Khan Daun Penh, Phnom Penh'],\n",
       " ['# 488 BC Eo, St. Moev Seng Toung, Sangkat Toek la ork I, Khan Toul kork, Phnom Penh'],\n",
       " ['Russian Bola vat ,Sangkat Ka Kap, Khan Por Sen Chey, Phnom Penh'],\n",
       " ['# 217, St. Monica Ray, Sangkat Boeng Salang, Tuol Kork, Phnom Penh'],\n",
       " ['# 115. 113, Street 199, Sangkat Toul Svay Prey II, Khan Chamkamorn, Phnom Penh'],\n",
       " ['# 09 C, National Highway 1, Village Boeung Chhouk, Sangkat Niroth, Khan Chbar am pov,Phnom Penh'],\n",
       " ['# 289, St. Ville (274), Sangkat Veal Vong, Khan 7 Makara, Phnom Penh'],\n",
       " ['Phnom Penh International Airport, Russian Federation, Kakap Sangkat, Khan Por Sen Chey, Phnom Penh'],\n",
       " ['# 528, Group 4, National Highway 5, Sangkat Chrang Chamres 1, Khan Russey Keo, Phnom Penh'],\n",
       " ['National Highway 6 ,Village 6, Sangkat Kampong Thom, Krung Stoeng Sen City, Kampong Thom Province'],\n",
       " ['2nd Street, village center, Sangkat Kampong Pranak, Kroung Preah Vihear, Preah Vihear Province'],\n",
       " ['St. Poukambor, Sangkat Svay Dongkom, Krong Siem Reap (17252), Siem Reap Province'],\n",
       " ['14 villages, Khemarakphumin, Sangkat Kampong Cham, Krung Kampong Cham, Kampong Cham Province'],\n",
       " ['Road 1, Mephleung Village, Sangkat Svay Rieng, Svay Rieng City, Svay Rieng Province'],\n",
       " ['Route 1 (Reuters river), 2 Village, Sangkat Phtas Prey, Krung Pursat , Pursat Province'],\n",
       " ['1, Sangkat Khsam, Krung Kampong Chhnang, Kampong Chhnang Province'],\n",
       " ['Street Corner 105 & 206, Takmao Village, Sangkat Takmao,Krung Takmao, Kandal'],\n",
       " ['Village 3, Sangkat Kampong Leav, Krung Prey Veng, Prey Vengn Province'],\n",
       " ['Village 3, Sangkat Preah Ponlea,Krung Serey Sophorn, Banteay Meanchey Province'],\n",
       " ['Route 1, Kamakor Village, Sangkat Svaypor, Krunng Battambang, Battambang Province'],\n",
       " ['Route 12, Kratie Village, Sangkat Kratie, Krung Kratie, Kratie (opposite the roundabout Dragon Fountain)'],\n",
       " ['Road No. 78, Phum Apivath, Sangkat Labarnseik, Krung Banlung, Ratanakiri Province'],\n",
       " ['Phum Prek, Street 63, Sangkat Stung Treng, Krung Stung Treng, Stung Treng Province'],\n",
       " ['Route 735 (along the creek), Phum May 1, Krung Kampot, Kampot Province'],\n",
       " ['Corner road 22A & 2316, Phum Kep, Sangkat Kep, Krung Kep, Kep Province'],\n",
       " ['1-Phsar Ler, Sangkat 2,Krung Preah Sihanouk, Phreah Sihanouk Province'],\n",
       " ['2- Krung 27, Phum 3,Sangkat 3, KrungPreah Sihanouk, Preah Sihanouk Province'],\n",
       " ['Village 1, Sangkat Smach Meanchey, Krung Khemrakphumin, Koh Kong Province'],\n",
       " ['Phum Wat, Sangkat Pailin, Krung Pailin, Pailin Province'],\n",
       " ['Chhouk Village, Sangkat Samrong, Krung Samrong, Oddarmeanchey Province'],\n",
       " ['Phum Pi, Sangkat Rorkaknoung, Krung Dounkeo, Takeo Province'],\n",
       " ['Phum Daohkramoum, Sangkat Sokhadom, Krung Senmonorom, Mondulkiri Province'],\n",
       " ['Road 4, Phum Samnoeng, Sangkat Rokarthom, Krung Chbamorn, Kampong Speu Provice'],\n",
       " ['Phum Soungkert, Sangkat Soung, Krung Suong. Thbungkhmum Province']]"
      ]
     },
     "execution_count": 14,
     "metadata": {},
     "output_type": "execute_result"
    }
   ],
   "source": [
    "old_str = []\n",
    "for x in street:\n",
    "    x_ls = [x]\n",
    "    old_str.append(x_ls)\n",
    "old_str"
   ]
  },
  {
   "cell_type": "code",
   "execution_count": 15,
   "metadata": {},
   "outputs": [],
   "source": [
    "new_street = pd.DataFrame({\"address\": [(\" \".join(x)) for x in old_str],\n",
    "                \"tokenize\": [(\" \".join(x)) for x in str_ls]})                "
   ]
  },
  {
   "cell_type": "code",
   "execution_count": 16,
   "metadata": {},
   "outputs": [],
   "source": [
    "cl_2 = new_street['tokenize'].str.split(expand=True)"
   ]
  },
  {
   "cell_type": "code",
   "execution_count": 17,
   "metadata": {},
   "outputs": [],
   "source": [
    "# cl_2.to_excel('lol.xlsx', index=False)"
   ]
  },
  {
   "cell_type": "code",
   "execution_count": 18,
   "metadata": {},
   "outputs": [
    {
     "data": {
      "text/plain": [
       "['# 488 BC Eo, St. Moev Seng Toung, Toek la ork I, Khan Toul kork, Phnom Penh']"
      ]
     },
     "execution_count": 18,
     "metadata": {},
     "output_type": "execute_result"
    }
   ],
   "source": [
    "clean_address(['# 488 BC Eo, St. Moev Seng Toung, Sangkat Toek la ork I, Khan Toul kork, Phnom Penh'])"
   ]
  },
  {
   "cell_type": "code",
   "execution_count": 23,
   "metadata": {},
   "outputs": [
    {
     "data": {
      "text/plain": [
       "['Olympia',\n",
       " 'City',\n",
       " 'C4',\n",
       " ',',\n",
       " '217',\n",
       " ',',\n",
       " 'Veal',\n",
       " 'Vong',\n",
       " ',',\n",
       " 'Khan',\n",
       " 'Prampir',\n",
       " 'Meakkakra',\n",
       " ',',\n",
       " 'Russey',\n",
       " 'Keo',\n",
       " ',',\n",
       " 'Russey',\n",
       " 'Keo',\n",
       " ',',\n",
       " 'Phnom',\n",
       " 'Penh']"
      ]
     },
     "execution_count": 23,
     "metadata": {},
     "output_type": "execute_result"
    }
   ],
   "source": [
    "word_tokenize('Olympia City C4, 217, Veal Vong, Khan Prampir Meakkakra, Russey Keo, Russey Keo, Phnom Penh')"
   ]
  }
 ],
 "metadata": {
  "kernelspec": {
   "display_name": "Python 3.9.12 ('mypy')",
   "language": "python",
   "name": "python3"
  },
  "language_info": {
   "codemirror_mode": {
    "name": "ipython",
    "version": 3
   },
   "file_extension": ".py",
   "mimetype": "text/x-python",
   "name": "python",
   "nbconvert_exporter": "python",
   "pygments_lexer": "ipython3",
   "version": "3.9.12"
  },
  "orig_nbformat": 4,
  "vscode": {
   "interpreter": {
    "hash": "ff872530eef8e893d9aef85c9079af2769210a77098287e49de53e382973a372"
   }
  }
 },
 "nbformat": 4,
 "nbformat_minor": 2
}
