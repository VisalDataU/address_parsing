{
 "cells": [
  {
   "cell_type": "code",
   "execution_count": 1,
   "metadata": {},
   "outputs": [],
   "source": [
    "import pandas as pd\n",
    "import re\n",
    "from nltk import word_tokenize"
   ]
  },
  {
   "cell_type": "code",
   "execution_count": 2,
   "metadata": {},
   "outputs": [],
   "source": [
    "df = pd.read_excel('addtional_address.xlsx')"
   ]
  },
  {
   "cell_type": "code",
   "execution_count": 3,
   "metadata": {},
   "outputs": [],
   "source": [
    "df.fillna('', inplace=True)"
   ]
  },
  {
   "cell_type": "code",
   "execution_count": 4,
   "metadata": {},
   "outputs": [],
   "source": [
    "# for x in range(15229, len(df) + 15229):\n",
    "#     print(x)"
   ]
  },
  {
   "cell_type": "code",
   "execution_count": 5,
   "metadata": {},
   "outputs": [],
   "source": [
    "# df['index'] = range(15229, len(df) + 15229)"
   ]
  },
  {
   "cell_type": "code",
   "execution_count": 6,
   "metadata": {},
   "outputs": [],
   "source": [
    "no_add = df.drop(['address'], axis=1)"
   ]
  },
  {
   "cell_type": "code",
   "execution_count": 7,
   "metadata": {},
   "outputs": [],
   "source": [
    "tags = pd.Series(\n",
    "    map(\n",
    "        ' '.join,\n",
    "        # no_add.values.tolist()\n",
    "        # when non-string columns are present:\n",
    "        no_add.values.astype(str).tolist()\n",
    "    ),\n",
    "    index=no_add.index\n",
    ").to_frame()"
   ]
  },
  {
   "cell_type": "code",
   "execution_count": 8,
   "metadata": {},
   "outputs": [],
   "source": [
    "new_df = df['address'].to_frame().merge(tags, left_index=True, right_index=True)"
   ]
  },
  {
   "cell_type": "code",
   "execution_count": 9,
   "metadata": {},
   "outputs": [],
   "source": [
    "df_token = new_df"
   ]
  },
  {
   "cell_type": "code",
   "execution_count": 10,
   "metadata": {},
   "outputs": [],
   "source": [
    "df_token['address'] = df_token['address'].apply(word_tokenize)"
   ]
  },
  {
   "cell_type": "code",
   "execution_count": 11,
   "metadata": {},
   "outputs": [
    {
     "data": {
      "text/html": [
       "<div>\n",
       "<style scoped>\n",
       "    .dataframe tbody tr th:only-of-type {\n",
       "        vertical-align: middle;\n",
       "    }\n",
       "\n",
       "    .dataframe tbody tr th {\n",
       "        vertical-align: top;\n",
       "    }\n",
       "\n",
       "    .dataframe thead th {\n",
       "        text-align: right;\n",
       "    }\n",
       "</style>\n",
       "<table border=\"1\" class=\"dataframe\">\n",
       "  <thead>\n",
       "    <tr style=\"text-align: right;\">\n",
       "      <th></th>\n",
       "      <th>address</th>\n",
       "      <th>0</th>\n",
       "    </tr>\n",
       "  </thead>\n",
       "  <tbody>\n",
       "    <tr>\n",
       "      <th>0</th>\n",
       "      <td>[National, Road, #, 31, #, 31, ,, Phnum, Kong,...</td>\n",
       "      <td>B-street_no I-street_no I-street_no I-street_n...</td>\n",
       "    </tr>\n",
       "    <tr>\n",
       "      <th>1</th>\n",
       "      <td>[Chek, #, 101, Chamka, ,, Phteah, Prey, ,, Pur...</td>\n",
       "      <td>O B-house_no I-house_no B-village_phum O B-com...</td>\n",
       "    </tr>\n",
       "    <tr>\n",
       "      <th>2</th>\n",
       "      <td>[57B, National, road, 57B, ,, Ta, Krei, ,, Kam...</td>\n",
       "      <td>B-street_no I-street_no I-street_no I-street_n...</td>\n",
       "    </tr>\n",
       "    <tr>\n",
       "      <th>3</th>\n",
       "      <td>[60m, street, 60m, street, ,, Cheung, Aek, ,, ...</td>\n",
       "      <td>B-street_no I-street_no I-street_no I-street_n...</td>\n",
       "    </tr>\n",
       "    <tr>\n",
       "      <th>4</th>\n",
       "      <td>[Tuol, Tom, Toung, 1, &amp;, 2, ,, Chamkar, Mon, ,...</td>\n",
       "      <td>B-commune_khum I-commune_khum I-commune_khum I...</td>\n",
       "    </tr>\n",
       "    <tr>\n",
       "      <th>...</th>\n",
       "      <td>...</td>\n",
       "      <td>...</td>\n",
       "    </tr>\n",
       "    <tr>\n",
       "      <th>1243</th>\n",
       "      <td>[Monia, Apartment]</td>\n",
       "      <td>B-property_name I-property_name               ...</td>\n",
       "    </tr>\n",
       "    <tr>\n",
       "      <th>1244</th>\n",
       "      <td>[Morgan, EnMaison]</td>\n",
       "      <td>B-property_name I-property_name               ...</td>\n",
       "    </tr>\n",
       "    <tr>\n",
       "      <th>1245</th>\n",
       "      <td>[Near, Riverside]</td>\n",
       "      <td>O B-POI</td>\n",
       "    </tr>\n",
       "    <tr>\n",
       "      <th>1246</th>\n",
       "      <td>[Olympia, City]</td>\n",
       "      <td>B-POI I-POI</td>\n",
       "    </tr>\n",
       "    <tr>\n",
       "      <th>1247</th>\n",
       "      <td>[One, Park]</td>\n",
       "      <td>B-property_name I-property_name               ...</td>\n",
       "    </tr>\n",
       "  </tbody>\n",
       "</table>\n",
       "<p>1248 rows × 2 columns</p>\n",
       "</div>"
      ],
      "text/plain": [
       "                                                address  \\\n",
       "0     [National, Road, #, 31, #, 31, ,, Phnum, Kong,...   \n",
       "1     [Chek, #, 101, Chamka, ,, Phteah, Prey, ,, Pur...   \n",
       "2     [57B, National, road, 57B, ,, Ta, Krei, ,, Kam...   \n",
       "3     [60m, street, 60m, street, ,, Cheung, Aek, ,, ...   \n",
       "4     [Tuol, Tom, Toung, 1, &, 2, ,, Chamkar, Mon, ,...   \n",
       "...                                                 ...   \n",
       "1243                                 [Monia, Apartment]   \n",
       "1244                                 [Morgan, EnMaison]   \n",
       "1245                                  [Near, Riverside]   \n",
       "1246                                    [Olympia, City]   \n",
       "1247                                        [One, Park]   \n",
       "\n",
       "                                                      0  \n",
       "0     B-street_no I-street_no I-street_no I-street_n...  \n",
       "1     O B-house_no I-house_no B-village_phum O B-com...  \n",
       "2     B-street_no I-street_no I-street_no I-street_n...  \n",
       "3     B-street_no I-street_no I-street_no I-street_n...  \n",
       "4     B-commune_khum I-commune_khum I-commune_khum I...  \n",
       "...                                                 ...  \n",
       "1243  B-property_name I-property_name               ...  \n",
       "1244  B-property_name I-property_name               ...  \n",
       "1245                  O B-POI                            \n",
       "1246              B-POI I-POI                            \n",
       "1247  B-property_name I-property_name               ...  \n",
       "\n",
       "[1248 rows x 2 columns]"
      ]
     },
     "execution_count": 11,
     "metadata": {},
     "output_type": "execute_result"
    }
   ],
   "source": [
    "df_token"
   ]
  },
  {
   "cell_type": "code",
   "execution_count": 12,
   "metadata": {},
   "outputs": [],
   "source": [
    "for col_name in [0]:\n",
    "    df_token[col_name] = df_token[col_name].astype(str).apply(word_tokenize)"
   ]
  },
  {
   "cell_type": "code",
   "execution_count": 13,
   "metadata": {},
   "outputs": [
    {
     "data": {
      "text/html": [
       "<div>\n",
       "<style scoped>\n",
       "    .dataframe tbody tr th:only-of-type {\n",
       "        vertical-align: middle;\n",
       "    }\n",
       "\n",
       "    .dataframe tbody tr th {\n",
       "        vertical-align: top;\n",
       "    }\n",
       "\n",
       "    .dataframe thead th {\n",
       "        text-align: right;\n",
       "    }\n",
       "</style>\n",
       "<table border=\"1\" class=\"dataframe\">\n",
       "  <thead>\n",
       "    <tr style=\"text-align: right;\">\n",
       "      <th></th>\n",
       "      <th>address</th>\n",
       "      <th>0</th>\n",
       "    </tr>\n",
       "  </thead>\n",
       "  <tbody>\n",
       "    <tr>\n",
       "      <th>0</th>\n",
       "      <td>[National, Road, #, 31, #, 31, ,, Phnum, Kong,...</td>\n",
       "      <td>[B-street_no, I-street_no, I-street_no, I-stre...</td>\n",
       "    </tr>\n",
       "    <tr>\n",
       "      <th>1</th>\n",
       "      <td>[Chek, #, 101, Chamka, ,, Phteah, Prey, ,, Pur...</td>\n",
       "      <td>[O, B-house_no, I-house_no, B-village_phum, O,...</td>\n",
       "    </tr>\n",
       "    <tr>\n",
       "      <th>2</th>\n",
       "      <td>[57B, National, road, 57B, ,, Ta, Krei, ,, Kam...</td>\n",
       "      <td>[B-street_no, I-street_no, I-street_no, I-stre...</td>\n",
       "    </tr>\n",
       "    <tr>\n",
       "      <th>3</th>\n",
       "      <td>[60m, street, 60m, street, ,, Cheung, Aek, ,, ...</td>\n",
       "      <td>[B-street_no, I-street_no, I-street_no, I-stre...</td>\n",
       "    </tr>\n",
       "    <tr>\n",
       "      <th>4</th>\n",
       "      <td>[Tuol, Tom, Toung, 1, &amp;, 2, ,, Chamkar, Mon, ,...</td>\n",
       "      <td>[B-commune_khum, I-commune_khum, I-commune_khu...</td>\n",
       "    </tr>\n",
       "    <tr>\n",
       "      <th>...</th>\n",
       "      <td>...</td>\n",
       "      <td>...</td>\n",
       "    </tr>\n",
       "    <tr>\n",
       "      <th>1243</th>\n",
       "      <td>[Monia, Apartment]</td>\n",
       "      <td>[B-property_name, I-property_name]</td>\n",
       "    </tr>\n",
       "    <tr>\n",
       "      <th>1244</th>\n",
       "      <td>[Morgan, EnMaison]</td>\n",
       "      <td>[B-property_name, I-property_name]</td>\n",
       "    </tr>\n",
       "    <tr>\n",
       "      <th>1245</th>\n",
       "      <td>[Near, Riverside]</td>\n",
       "      <td>[O, B-POI]</td>\n",
       "    </tr>\n",
       "    <tr>\n",
       "      <th>1246</th>\n",
       "      <td>[Olympia, City]</td>\n",
       "      <td>[B-POI, I-POI]</td>\n",
       "    </tr>\n",
       "    <tr>\n",
       "      <th>1247</th>\n",
       "      <td>[One, Park]</td>\n",
       "      <td>[B-property_name, I-property_name]</td>\n",
       "    </tr>\n",
       "  </tbody>\n",
       "</table>\n",
       "<p>1248 rows × 2 columns</p>\n",
       "</div>"
      ],
      "text/plain": [
       "                                                address  \\\n",
       "0     [National, Road, #, 31, #, 31, ,, Phnum, Kong,...   \n",
       "1     [Chek, #, 101, Chamka, ,, Phteah, Prey, ,, Pur...   \n",
       "2     [57B, National, road, 57B, ,, Ta, Krei, ,, Kam...   \n",
       "3     [60m, street, 60m, street, ,, Cheung, Aek, ,, ...   \n",
       "4     [Tuol, Tom, Toung, 1, &, 2, ,, Chamkar, Mon, ,...   \n",
       "...                                                 ...   \n",
       "1243                                 [Monia, Apartment]   \n",
       "1244                                 [Morgan, EnMaison]   \n",
       "1245                                  [Near, Riverside]   \n",
       "1246                                    [Olympia, City]   \n",
       "1247                                        [One, Park]   \n",
       "\n",
       "                                                      0  \n",
       "0     [B-street_no, I-street_no, I-street_no, I-stre...  \n",
       "1     [O, B-house_no, I-house_no, B-village_phum, O,...  \n",
       "2     [B-street_no, I-street_no, I-street_no, I-stre...  \n",
       "3     [B-street_no, I-street_no, I-street_no, I-stre...  \n",
       "4     [B-commune_khum, I-commune_khum, I-commune_khu...  \n",
       "...                                                 ...  \n",
       "1243                 [B-property_name, I-property_name]  \n",
       "1244                 [B-property_name, I-property_name]  \n",
       "1245                                         [O, B-POI]  \n",
       "1246                                     [B-POI, I-POI]  \n",
       "1247                 [B-property_name, I-property_name]  \n",
       "\n",
       "[1248 rows x 2 columns]"
      ]
     },
     "execution_count": 13,
     "metadata": {},
     "output_type": "execute_result"
    }
   ],
   "source": [
    "df_token"
   ]
  },
  {
   "cell_type": "code",
   "execution_count": 14,
   "metadata": {},
   "outputs": [],
   "source": [
    "df_token['index'] = range(785, len(df) + 785)"
   ]
  },
  {
   "cell_type": "code",
   "execution_count": 15,
   "metadata": {},
   "outputs": [],
   "source": [
    "ex_df = df_token[['index', 'address', 0]]"
   ]
  },
  {
   "cell_type": "code",
   "execution_count": 16,
   "metadata": {},
   "outputs": [
    {
     "name": "stderr",
     "output_type": "stream",
     "text": [
      "/tmp/ipykernel_18365/1526030247.py:1: FutureWarning: In a future version of pandas all arguments of DataFrame.drop except for the argument 'labels' will be keyword-only.\n",
      "  join_df = (ex_df.set_index('index')\n"
     ]
    }
   ],
   "source": [
    "join_df = (ex_df.set_index('index')\n",
    "              .apply(lambda x: x.apply(pd.Series).stack())\n",
    "              .reset_index()\n",
    "              .drop('level_1', 1))"
   ]
  },
  {
   "cell_type": "code",
   "execution_count": 17,
   "metadata": {},
   "outputs": [],
   "source": [
    "join_df.to_excel('additional_add_token_785.xlsx', index=False)"
   ]
  },
  {
   "cell_type": "code",
   "execution_count": null,
   "metadata": {},
   "outputs": [],
   "source": [
    "str = 'B-village_phum (Cheang I-village_phum )'\n",
    "df.query('new_village ==  @str ')"
   ]
  },
  {
   "cell_type": "code",
   "execution_count": null,
   "metadata": {},
   "outputs": [],
   "source": [
    "pd.set_option('display.max_colwidth', None)\n",
    "new_df[['new_village']].value_counts()"
   ]
  },
  {
   "cell_type": "code",
   "execution_count": null,
   "metadata": {},
   "outputs": [],
   "source": [
    "for x in df['new_com']:\n",
    "    print(x)"
   ]
  }
 ],
 "metadata": {
  "kernelspec": {
   "display_name": "Python 3.9.12 ('mypy')",
   "language": "python",
   "name": "python3"
  },
  "language_info": {
   "codemirror_mode": {
    "name": "ipython",
    "version": 3
   },
   "file_extension": ".py",
   "mimetype": "text/x-python",
   "name": "python",
   "nbconvert_exporter": "python",
   "pygments_lexer": "ipython3",
   "version": "3.9.12"
  },
  "orig_nbformat": 4,
  "vscode": {
   "interpreter": {
    "hash": "ff872530eef8e893d9aef85c9079af2769210a77098287e49de53e382973a372"
   }
  }
 },
 "nbformat": 4,
 "nbformat_minor": 2
}
