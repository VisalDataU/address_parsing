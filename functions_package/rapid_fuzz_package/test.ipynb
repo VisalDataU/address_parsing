{
 "cells": [
  {
   "cell_type": "code",
   "execution_count": null,
   "metadata": {},
   "outputs": [],
   "source": [
    "import pandas as pd"
   ]
  },
  {
   "cell_type": "code",
   "execution_count": null,
   "metadata": {},
   "outputs": [],
   "source": [
    "# Import important libraries\n",
    "from sqlalchemy import create_engine\n",
    "from sqlalchemy.engine.url import URL"
   ]
  },
  {
   "cell_type": "code",
   "execution_count": null,
   "metadata": {},
   "outputs": [],
   "source": [
    "config = dict(\n",
    "    drivername='postgresql+psycopg2',\n",
    "    username='postgres',\n",
    "    password='1234',\n",
    "    host='localhost',\n",
    "    port='5432',\n",
    "    database='postgres',\n",
    ")\n",
    "url = URL.create(**config)\n",
    "print(url)\n",
    "engine = create_engine(url)"
   ]
  },
  {
   "cell_type": "code",
   "execution_count": null,
   "metadata": {},
   "outputs": [],
   "source": [
    "df = pd.read_sql_query(\n",
    "    \"\"\"SELECT id, full_address, village, commune, district, province\n",
    "        FROM predict_address\"\"\",\n",
    "    con=engine\n",
    ")\n"
   ]
  },
  {
   "cell_type": "code",
   "execution_count": null,
   "metadata": {},
   "outputs": [],
   "source": [
    "from functions import load_json\n",
    "from rapidfuzz import process, fuzz\n",
    "import tqdm"
   ]
  },
  {
   "cell_type": "code",
   "execution_count": null,
   "metadata": {},
   "outputs": [],
   "source": [
    "village = load_json('./data/village.json')\n",
    "commune = load_json('./data/commune.json')\n",
    "district = load_json('./data/district.json')\n",
    "province = load_json('./data/province.json')"
   ]
  },
  {
   "cell_type": "code",
   "execution_count": null,
   "metadata": {},
   "outputs": [],
   "source": [
    "province_ls = list(df['province'].fillna('').str.lower())\n",
    "commune_ls = list(df['commune'].fillna('').str.lower())\n",
    "district_ls = list(df['district'].fillna('').str.lower())\n",
    "village_ls = list(df['village'].fillna('').str.lower())"
   ]
  },
  {
   "cell_type": "code",
   "execution_count": null,
   "metadata": {},
   "outputs": [],
   "source": [
    "province_search_ls = []\n",
    "for x in tqdm.tqdm(province_ls):\n",
    "    province_search = process.extract(x, province, limit=1, scorer=fuzz.WRatio)\n",
    "    province_search_ls.append(province_search)"
   ]
  },
  {
   "cell_type": "code",
   "execution_count": null,
   "metadata": {},
   "outputs": [],
   "source": [
    "district_search_ls = []\n",
    "for x in tqdm.tqdm(district_ls):\n",
    "    district_search = process.extract(x, district, limit=1, scorer=fuzz.WRatio)\n",
    "    district_search_ls.append(district_search)"
   ]
  },
  {
   "cell_type": "code",
   "execution_count": null,
   "metadata": {},
   "outputs": [],
   "source": [
    "commune_search_ls = []\n",
    "for x in tqdm.tqdm(commune_ls):\n",
    "    commune_search = process.extract(x, commune, limit=1, scorer=fuzz.WRatio)\n",
    "    commune_search_ls.append(commune_search)"
   ]
  },
  {
   "cell_type": "code",
   "execution_count": null,
   "metadata": {},
   "outputs": [],
   "source": [
    "village_search_ls = []\n",
    "for x in tqdm.tqdm(village_ls):\n",
    "    village_search = process.extract(x, village, limit=1, scorer=fuzz.WRatio)\n",
    "    village_search_ls.append(village_search)"
   ]
  }
 ],
 "metadata": {
  "kernelspec": {
   "display_name": "Python 3.7.13 ('keras')",
   "language": "python",
   "name": "python3"
  },
  "language_info": {
   "codemirror_mode": {
    "name": "ipython",
    "version": 3
   },
   "file_extension": ".py",
   "mimetype": "text/x-python",
   "name": "python",
   "nbconvert_exporter": "python",
   "pygments_lexer": "ipython3",
   "version": "3.7.13"
  },
  "orig_nbformat": 4,
  "vscode": {
   "interpreter": {
    "hash": "8912e3ad7c5e026708f8b27cba7559858cf73cfb4bfe2cb0d99893633cd7181e"
   }
  }
 },
 "nbformat": 4,
 "nbformat_minor": 2
}
