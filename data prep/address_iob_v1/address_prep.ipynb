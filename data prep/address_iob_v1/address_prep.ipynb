{
 "cells": [
  {
   "cell_type": "code",
   "execution_count": 1,
   "metadata": {},
   "outputs": [],
   "source": [
    "import pandas as pd\n",
    "import re\n",
    "from nltk import word_tokenize"
   ]
  },
  {
   "cell_type": "code",
   "execution_count": 2,
   "metadata": {},
   "outputs": [],
   "source": [
    "df = pd.read_csv('address_v3.csv')"
   ]
  },
  {
   "cell_type": "code",
   "execution_count": 3,
   "metadata": {},
   "outputs": [],
   "source": [
    "def max_row_pd(n):\n",
    "    pd.set_option('max_colwidth', 400)\n",
    "    pd.set_option('display.max_rows', n)"
   ]
  },
  {
   "cell_type": "code",
   "execution_count": 4,
   "metadata": {},
   "outputs": [],
   "source": [
    "def get_house(address=None):\n",
    "    find = re.search('^#.*?(?=,)', address)\n",
    "    if find == None:\n",
    "        pass\n",
    "    else:    \n",
    "        return find.group(0)\n",
    "\n",
    "df['new_house_no'] = df.apply(lambda row:get_house(address=row['address']),axis=1).str.strip()"
   ]
  },
  {
   "cell_type": "code",
   "execution_count": 5,
   "metadata": {},
   "outputs": [],
   "source": [
    "df['new_street_no'] = df['new_street_no'].str.replace(r'St.#7', 'St. # 7', regex=True)"
   ]
  },
  {
   "cell_type": "code",
   "execution_count": 6,
   "metadata": {},
   "outputs": [],
   "source": [
    "df['new_street_no'] = df['new_street_no'].str.replace(r'St.#73', 'St. # 73', regex=True)"
   ]
  },
  {
   "cell_type": "code",
   "execution_count": 7,
   "metadata": {},
   "outputs": [],
   "source": [
    "df['new_street_no'] = df['new_street_no'].str.replace(r'St\\.st\\. lum', 'St.st . lum', regex=True)"
   ]
  },
  {
   "cell_type": "code",
   "execution_count": 8,
   "metadata": {},
   "outputs": [
    {
     "data": {
      "text/plain": [
       "377    St.st . lum\n",
       "Name: new_street_no, dtype: object"
      ]
     },
     "execution_count": 8,
     "metadata": {},
     "output_type": "execute_result"
    }
   ],
   "source": [
    "df['new_street_no'].loc[377:377]"
   ]
  },
  {
   "cell_type": "code",
   "execution_count": 9,
   "metadata": {},
   "outputs": [],
   "source": [
    "def conver_bio_tag(cur_col, new_col, b_tag, i_tag):\n",
    "    df[new_col]=df[cur_col].str.replace(r'^\\S*', b_tag, regex=True)\n",
    "    df[new_col] = df[new_col].str.replace(r'(?<=\\s)(\\b\\w+\\b)', i_tag, regex=True)\n",
    "    "
   ]
  },
  {
   "cell_type": "code",
   "execution_count": 10,
   "metadata": {},
   "outputs": [],
   "source": [
    "df['new_house_no'] = df['new_house_no'].str.replace(r'#', '# ', regex=True)"
   ]
  },
  {
   "cell_type": "code",
   "execution_count": 11,
   "metadata": {},
   "outputs": [],
   "source": [
    "df['new_house_no'] = df['new_house_no'].str.replace(r'# $', '#', regex=True)"
   ]
  },
  {
   "cell_type": "code",
   "execution_count": 12,
   "metadata": {},
   "outputs": [],
   "source": [
    "df['new_house_no'] = df['new_house_no'].str.replace(r'# NA $', '# NA', regex=True)"
   ]
  },
  {
   "cell_type": "code",
   "execution_count": 13,
   "metadata": {},
   "outputs": [],
   "source": [
    "conver_bio_tag('village_phum', 'village_phum1', 'B-village_phum', 'I-village_phum')"
   ]
  },
  {
   "cell_type": "code",
   "execution_count": 14,
   "metadata": {},
   "outputs": [],
   "source": [
    "conver_bio_tag('new_house_no', 'new_house_no1', 'B-house_no', 'I-house_no')"
   ]
  },
  {
   "cell_type": "code",
   "execution_count": 15,
   "metadata": {},
   "outputs": [],
   "source": [
    "conver_bio_tag('new_street_no', 'new_street_no1', 'B-street_no', 'I-street_no')"
   ]
  },
  {
   "cell_type": "code",
   "execution_count": 16,
   "metadata": {},
   "outputs": [],
   "source": [
    "conver_bio_tag('commune_khum', 'commune_khum1', 'B-commune_khum', 'I-commune_khum')"
   ]
  },
  {
   "cell_type": "code",
   "execution_count": 17,
   "metadata": {},
   "outputs": [],
   "source": [
    "conver_bio_tag('district_srok', 'district_srok1', 'B-district_srok', 'I-district_srok')"
   ]
  },
  {
   "cell_type": "code",
   "execution_count": 18,
   "metadata": {},
   "outputs": [],
   "source": [
    "conver_bio_tag('new_province', 'new_province1', 'B-city_province', 'I-city_province')"
   ]
  },
  {
   "cell_type": "code",
   "execution_count": 19,
   "metadata": {},
   "outputs": [],
   "source": [
    "new_df = df[['address', 'new_house_no1', 'new_street_no1', 'village_phum1', \\\n",
    "    'commune_khum1', 'district_srok1', 'new_province1']]"
   ]
  },
  {
   "cell_type": "code",
   "execution_count": 20,
   "metadata": {},
   "outputs": [
    {
     "name": "stderr",
     "output_type": "stream",
     "text": [
      "/tmp/ipykernel_9853/2157761344.py:1: SettingWithCopyWarning: \n",
      "A value is trying to be set on a copy of a slice from a DataFrame.\n",
      "Try using .loc[row_indexer,col_indexer] = value instead\n",
      "\n",
      "See the caveats in the documentation: https://pandas.pydata.org/pandas-docs/stable/user_guide/indexing.html#returning-a-view-versus-a-copy\n",
      "  new_df['new_street_no1'] = new_df['new_street_no1'].str.replace(r'&', 'I-street_no', regex=True)\n"
     ]
    }
   ],
   "source": [
    "new_df['new_street_no1'] = new_df['new_street_no1'].str.replace(r'&', 'I-street_no', regex=True)"
   ]
  },
  {
   "cell_type": "code",
   "execution_count": 21,
   "metadata": {},
   "outputs": [
    {
     "name": "stderr",
     "output_type": "stream",
     "text": [
      "/tmp/ipykernel_9853/2811108892.py:1: SettingWithCopyWarning: \n",
      "A value is trying to be set on a copy of a slice from a DataFrame.\n",
      "Try using .loc[row_indexer,col_indexer] = value instead\n",
      "\n",
      "See the caveats in the documentation: https://pandas.pydata.org/pandas-docs/stable/user_guide/indexing.html#returning-a-view-versus-a-copy\n",
      "  new_df['new_street_no1'] = new_df['new_street_no1'].str.replace(r'\\.', '', regex=True)\n"
     ]
    }
   ],
   "source": [
    "new_df['new_street_no1'] = new_df['new_street_no1'].str.replace(r'\\.', '', regex=True)"
   ]
  },
  {
   "cell_type": "code",
   "execution_count": 22,
   "metadata": {},
   "outputs": [
    {
     "name": "stderr",
     "output_type": "stream",
     "text": [
      "/tmp/ipykernel_9853/2561414632.py:1: SettingWithCopyWarning: \n",
      "A value is trying to be set on a copy of a slice from a DataFrame.\n",
      "Try using .loc[row_indexer,col_indexer] = value instead\n",
      "\n",
      "See the caveats in the documentation: https://pandas.pydata.org/pandas-docs/stable/user_guide/indexing.html#returning-a-view-versus-a-copy\n",
      "  new_df['new_street_no1'] = new_df['new_street_no1'].str.replace(r'I-street_no/A', 'I-street_no', regex=True)\n"
     ]
    }
   ],
   "source": [
    "new_df['new_street_no1'] = new_df['new_street_no1'].str.replace(r'I-street_no/A', 'I-street_no', regex=True)"
   ]
  },
  {
   "cell_type": "code",
   "execution_count": 23,
   "metadata": {},
   "outputs": [
    {
     "name": "stderr",
     "output_type": "stream",
     "text": [
      "/tmp/ipykernel_9853/3348195215.py:1: SettingWithCopyWarning: \n",
      "A value is trying to be set on a copy of a slice from a DataFrame.\n",
      "Try using .loc[row_indexer,col_indexer] = value instead\n",
      "\n",
      "See the caveats in the documentation: https://pandas.pydata.org/pandas-docs/stable/user_guide/indexing.html#returning-a-view-versus-a-copy\n",
      "  new_df['new_street_no1'] = new_df['new_street_no1'].str.replace(r'B-street_no  ', 'B-street_no ', regex=True)\n"
     ]
    }
   ],
   "source": [
    "new_df['new_street_no1'] = new_df['new_street_no1'].str.replace(r'B-street_no  ', 'B-street_no ', regex=True)"
   ]
  },
  {
   "cell_type": "code",
   "execution_count": 24,
   "metadata": {},
   "outputs": [
    {
     "name": "stderr",
     "output_type": "stream",
     "text": [
      "/tmp/ipykernel_9853/1254488194.py:1: SettingWithCopyWarning: \n",
      "A value is trying to be set on a copy of a slice from a DataFrame.\n",
      "Try using .loc[row_indexer,col_indexer] = value instead\n",
      "\n",
      "See the caveats in the documentation: https://pandas.pydata.org/pandas-docs/stable/user_guide/indexing.html#returning-a-view-versus-a-copy\n",
      "  new_df['new_house_no1'] = new_df['new_house_no1'].str.replace(r'I-house_no-31', 'I-house_no', regex=True)\n"
     ]
    }
   ],
   "source": [
    "new_df['new_house_no1'] = new_df['new_house_no1'].str.replace(r'I-house_no-31', 'I-house_no', regex=True)"
   ]
  },
  {
   "cell_type": "code",
   "execution_count": 25,
   "metadata": {},
   "outputs": [
    {
     "name": "stderr",
     "output_type": "stream",
     "text": [
      "/tmp/ipykernel_9853/996231419.py:1: SettingWithCopyWarning: \n",
      "A value is trying to be set on a copy of a slice from a DataFrame.\n",
      "Try using .loc[row_indexer,col_indexer] = value instead\n",
      "\n",
      "See the caveats in the documentation: https://pandas.pydata.org/pandas-docs/stable/user_guide/indexing.html#returning-a-view-versus-a-copy\n",
      "  new_df['new_house_no1'] = new_df['new_house_no1'].str.replace(r'I-house_no/a', 'I-house_no', regex=True)\n"
     ]
    }
   ],
   "source": [
    "new_df['new_house_no1'] = new_df['new_house_no1'].str.replace(r'I-house_no/a', 'I-house_no', regex=True)"
   ]
  },
  {
   "cell_type": "code",
   "execution_count": 26,
   "metadata": {},
   "outputs": [
    {
     "name": "stderr",
     "output_type": "stream",
     "text": [
      "/tmp/ipykernel_9853/1967747624.py:1: SettingWithCopyWarning: \n",
      "A value is trying to be set on a copy of a slice from a DataFrame.\n",
      "Try using .loc[row_indexer,col_indexer] = value instead\n",
      "\n",
      "See the caveats in the documentation: https://pandas.pydata.org/pandas-docs/stable/user_guide/indexing.html#returning-a-view-versus-a-copy\n",
      "  new_df['new_house_no1'] = new_df['new_house_no1'].str.replace(r'I-house_no\\.A', 'I-house_no', regex=True)\n"
     ]
    }
   ],
   "source": [
    "new_df['new_house_no1'] = new_df['new_house_no1'].str.replace(r'I-house_no\\.A', 'I-house_no', regex=True)"
   ]
  },
  {
   "cell_type": "code",
   "execution_count": 27,
   "metadata": {},
   "outputs": [
    {
     "name": "stderr",
     "output_type": "stream",
     "text": [
      "/tmp/ipykernel_9853/1563177266.py:1: SettingWithCopyWarning: \n",
      "A value is trying to be set on a copy of a slice from a DataFrame.\n",
      "Try using .loc[row_indexer,col_indexer] = value instead\n",
      "\n",
      "See the caveats in the documentation: https://pandas.pydata.org/pandas-docs/stable/user_guide/indexing.html#returning-a-view-versus-a-copy\n",
      "  new_df['new_house_no1'] = new_df['new_house_no1'].str.replace(r'B-house_no # I-house_no', 'B-house_no I-house_no I-house_no', regex=True)\n"
     ]
    }
   ],
   "source": [
    "new_df['new_house_no1'] = new_df['new_house_no1'].str.replace(r'B-house_no # I-house_no', 'B-house_no I-house_no I-house_no', regex=True)"
   ]
  },
  {
   "cell_type": "code",
   "execution_count": 28,
   "metadata": {},
   "outputs": [
    {
     "name": "stderr",
     "output_type": "stream",
     "text": [
      "/tmp/ipykernel_9853/3455054776.py:1: SettingWithCopyWarning: \n",
      "A value is trying to be set on a copy of a slice from a DataFrame.\n",
      "Try using .loc[row_indexer,col_indexer] = value instead\n",
      "\n",
      "See the caveats in the documentation: https://pandas.pydata.org/pandas-docs/stable/user_guide/indexing.html#returning-a-view-versus-a-copy\n",
      "  new_df['commune_khum1'] = new_df['commune_khum1'].str.replace(r'I-commune_khum\\'am|I-commune_khum\\'ak', 'I-commune_khum', regex=True)\n"
     ]
    }
   ],
   "source": [
    "new_df['commune_khum1'] = new_df['commune_khum1'].str.replace(r'I-commune_khum\\'am|I-commune_khum\\'ak', 'I-commune_khum', regex=True)"
   ]
  },
  {
   "cell_type": "code",
   "execution_count": 29,
   "metadata": {},
   "outputs": [
    {
     "name": "stderr",
     "output_type": "stream",
     "text": [
      "/tmp/ipykernel_9853/762093486.py:1: SettingWithCopyWarning: \n",
      "A value is trying to be set on a copy of a slice from a DataFrame.\n",
      "Try using .loc[row_indexer,col_indexer] = value instead\n",
      "\n",
      "See the caveats in the documentation: https://pandas.pydata.org/pandas-docs/stable/user_guide/indexing.html#returning-a-view-versus-a-copy\n",
      "  new_df['district_srok1'] = new_df['district_srok1'].str.replace(r'I-district_srok\\'ier|I-district_srok\\'aeur', 'I-district_srok', regex=True)\n"
     ]
    }
   ],
   "source": [
    "new_df['district_srok1'] = new_df['district_srok1'].str.replace(r'I-district_srok\\'ier|I-district_srok\\'aeur', 'I-district_srok', regex=True)"
   ]
  },
  {
   "cell_type": "code",
   "execution_count": 30,
   "metadata": {},
   "outputs": [
    {
     "name": "stderr",
     "output_type": "stream",
     "text": [
      "/tmp/ipykernel_9853/3907062341.py:1: SettingWithCopyWarning: \n",
      "A value is trying to be set on a copy of a slice from a DataFrame.\n",
      "Try using .loc[row_indexer,col_indexer] = value instead\n",
      "\n",
      "See the caveats in the documentation: https://pandas.pydata.org/pandas-docs/stable/user_guide/indexing.html#returning-a-view-versus-a-copy\n",
      "  new_df['village_phum1'] = new_df['village_phum1'].str.replace(r'\\'et|\\'aem|\\'aok', '', regex=True)\n"
     ]
    }
   ],
   "source": [
    "new_df['village_phum1'] = new_df['village_phum1'].str.replace(r'\\'et|\\'aem|\\'aok', '', regex=True)"
   ]
  },
  {
   "cell_type": "code",
   "execution_count": 31,
   "metadata": {},
   "outputs": [],
   "source": [
    "import numpy as np\n",
    "new_df = new_df.replace({np.nan: None})"
   ]
  },
  {
   "cell_type": "code",
   "execution_count": 32,
   "metadata": {},
   "outputs": [],
   "source": [
    "new_df['village_phum1'] = new_df['village_phum1'].str.replace(r'\\'et|\\'aem|\\'aok', '', regex=True)"
   ]
  },
  {
   "cell_type": "code",
   "execution_count": 33,
   "metadata": {},
   "outputs": [],
   "source": [
    "new_df['new_house_no1'] = new_df['new_house_no1'].str.replace(r'B-house_no I-house_no $|B-house_no I-house_no/A', 'B-house_no I-house_no', regex=True)"
   ]
  },
  {
   "cell_type": "code",
   "execution_count": 34,
   "metadata": {},
   "outputs": [],
   "source": [
    "new_df['new_house_no1'] = new_df['new_house_no1'].str.replace(r'B-house_no $', 'B-house_no', regex=True)"
   ]
  },
  {
   "cell_type": "code",
   "execution_count": 35,
   "metadata": {},
   "outputs": [],
   "source": [
    "for col in ['new_house_no1', 'new_street_no1', 'village_phum1', 'commune_khum1', 'district_srok1']:\n",
    "    new_df[col] = new_df[col] + ' O'"
   ]
  },
  {
   "cell_type": "code",
   "execution_count": 36,
   "metadata": {},
   "outputs": [],
   "source": [
    "new_df['new_street_no1'] = new_df['new_street_no1'].str.replace(r'B-street_no \\# I-street_no O', 'B-street_no I-street_no I-street_no O', regex=True)"
   ]
  },
  {
   "cell_type": "code",
   "execution_count": 37,
   "metadata": {},
   "outputs": [],
   "source": [
    "new_df['new_street_no1'].loc[377:377] = new_df['new_street_no1'].loc[377:377].str.replace(r'B-street_no I-street_no O', 'B-street_no I-street_no I-street_no O', regex=True)"
   ]
  },
  {
   "cell_type": "code",
   "execution_count": 38,
   "metadata": {},
   "outputs": [],
   "source": [
    "new_df['new_street_no1'].loc[423:423] = new_df['new_street_no1'].loc[423:423].str.replace(r'B-street_no I-street_no O', 'B-street_no I-street_no I-street_no O', regex=True)"
   ]
  },
  {
   "cell_type": "code",
   "execution_count": 39,
   "metadata": {},
   "outputs": [
    {
     "data": {
      "text/plain": [
       "0                                                    NaN\n",
       "13                 B-street_no I-street_no I-street_no O\n",
       "14                                         B-street_no O\n",
       "67     B-street_no I-street_no I-street_no I-street_no O\n",
       "138                            B-street_no I-street_no O\n",
       "471    B-street_no I-street_no I-street_no I-street_n...\n",
       "Name: new_street_no1, dtype: object"
      ]
     },
     "execution_count": 39,
     "metadata": {},
     "output_type": "execute_result"
    }
   ],
   "source": [
    "new_df['new_street_no1'].drop_duplicates()"
   ]
  },
  {
   "cell_type": "code",
   "execution_count": 40,
   "metadata": {},
   "outputs": [
    {
     "data": {
      "text/html": [
       "<div>\n",
       "<style scoped>\n",
       "    .dataframe tbody tr th:only-of-type {\n",
       "        vertical-align: middle;\n",
       "    }\n",
       "\n",
       "    .dataframe tbody tr th {\n",
       "        vertical-align: top;\n",
       "    }\n",
       "\n",
       "    .dataframe thead th {\n",
       "        text-align: right;\n",
       "    }\n",
       "</style>\n",
       "<table border=\"1\" class=\"dataframe\">\n",
       "  <thead>\n",
       "    <tr style=\"text-align: right;\">\n",
       "      <th></th>\n",
       "      <th>address</th>\n",
       "      <th>new_house_no1</th>\n",
       "      <th>new_street_no1</th>\n",
       "      <th>village_phum1</th>\n",
       "      <th>commune_khum1</th>\n",
       "      <th>district_srok1</th>\n",
       "      <th>new_province1</th>\n",
       "    </tr>\n",
       "  </thead>\n",
       "  <tbody>\n",
       "    <tr>\n",
       "      <th>423</th>\n",
       "      <td>#, St.st. lum, Khleang Moeang Tboung, Preaek A...</td>\n",
       "      <td>B-house_no O</td>\n",
       "      <td>B-street_no I-street_no I-street_no O</td>\n",
       "      <td>B-village_phum I-village_phum I-village_phum O</td>\n",
       "      <td>B-commune_khum I-commune_khum O</td>\n",
       "      <td>B-district_srok I-district_srok O</td>\n",
       "      <td>B-city_province I-city_province</td>\n",
       "    </tr>\n",
       "  </tbody>\n",
       "</table>\n",
       "</div>"
      ],
      "text/plain": [
       "                                               address new_house_no1  \\\n",
       "423  #, St.st. lum, Khleang Moeang Tboung, Preaek A...  B-house_no O   \n",
       "\n",
       "                            new_street_no1  \\\n",
       "423  B-street_no I-street_no I-street_no O   \n",
       "\n",
       "                                      village_phum1  \\\n",
       "423  B-village_phum I-village_phum I-village_phum O   \n",
       "\n",
       "                       commune_khum1                     district_srok1  \\\n",
       "423  B-commune_khum I-commune_khum O  B-district_srok I-district_srok O   \n",
       "\n",
       "                       new_province1  \n",
       "423  B-city_province I-city_province  "
      ]
     },
     "execution_count": 40,
     "metadata": {},
     "output_type": "execute_result"
    }
   ],
   "source": [
    "new_df.loc[423:423]"
   ]
  },
  {
   "cell_type": "code",
   "execution_count": 41,
   "metadata": {},
   "outputs": [],
   "source": [
    "new_df = new_df.replace({np.nan: ''})"
   ]
  },
  {
   "cell_type": "code",
   "execution_count": 42,
   "metadata": {},
   "outputs": [],
   "source": [
    "new_df['merge'] = new_df['new_house_no1'] + ' ' + new_df['new_street_no1'] + ' ' + new_df['village_phum1'] + ' ' + new_df['commune_khum1'] + ' ' + new_df['district_srok1']\\\n",
    "    + ' ' + new_df['new_province1']"
   ]
  },
  {
   "cell_type": "code",
   "execution_count": 43,
   "metadata": {},
   "outputs": [],
   "source": [
    "new_df['index'] = range(1, len(new_df) + 1)"
   ]
  },
  {
   "cell_type": "code",
   "execution_count": 44,
   "metadata": {},
   "outputs": [],
   "source": [
    "df_token = new_df"
   ]
  },
  {
   "cell_type": "code",
   "execution_count": 45,
   "metadata": {},
   "outputs": [],
   "source": [
    "for col_name in ['address', 'merge']:\n",
    "    df_token[col_name] = df_token[col_name].astype(str).apply(word_tokenize)"
   ]
  },
  {
   "cell_type": "code",
   "execution_count": 46,
   "metadata": {},
   "outputs": [],
   "source": [
    "ex_df = df_token[['index', 'address', 'merge']]"
   ]
  },
  {
   "cell_type": "code",
   "execution_count": 47,
   "metadata": {},
   "outputs": [
    {
     "name": "stderr",
     "output_type": "stream",
     "text": [
      "/tmp/ipykernel_9853/1526030247.py:1: FutureWarning: In a future version of pandas all arguments of DataFrame.drop except for the argument 'labels' will be keyword-only.\n",
      "  join_df = (ex_df.set_index('index')\n"
     ]
    }
   ],
   "source": [
    "join_df = (ex_df.set_index('index')\n",
    "              .apply(lambda x: x.apply(pd.Series).stack())\n",
    "              .reset_index()\n",
    "              .drop('level_1', 1))"
   ]
  },
  {
   "cell_type": "code",
   "execution_count": 48,
   "metadata": {},
   "outputs": [
    {
     "data": {
      "text/html": [
       "<div>\n",
       "<style scoped>\n",
       "    .dataframe tbody tr th:only-of-type {\n",
       "        vertical-align: middle;\n",
       "    }\n",
       "\n",
       "    .dataframe tbody tr th {\n",
       "        vertical-align: top;\n",
       "    }\n",
       "\n",
       "    .dataframe thead th {\n",
       "        text-align: right;\n",
       "    }\n",
       "</style>\n",
       "<table border=\"1\" class=\"dataframe\">\n",
       "  <thead>\n",
       "    <tr style=\"text-align: right;\">\n",
       "      <th></th>\n",
       "      <th>index</th>\n",
       "      <th>address</th>\n",
       "      <th>merge</th>\n",
       "    </tr>\n",
       "  </thead>\n",
       "  <tbody>\n",
       "    <tr>\n",
       "      <th>7751</th>\n",
       "      <td>657</td>\n",
       "      <td>Bat</td>\n",
       "      <td>B-village_phum</td>\n",
       "    </tr>\n",
       "    <tr>\n",
       "      <th>7752</th>\n",
       "      <td>657</td>\n",
       "      <td>Sloek</td>\n",
       "      <td>I-village_phum</td>\n",
       "    </tr>\n",
       "    <tr>\n",
       "      <th>7753</th>\n",
       "      <td>657</td>\n",
       "      <td>,</td>\n",
       "      <td>O</td>\n",
       "    </tr>\n",
       "    <tr>\n",
       "      <th>7754</th>\n",
       "      <td>657</td>\n",
       "      <td>Svay</td>\n",
       "      <td>B-commune_khum</td>\n",
       "    </tr>\n",
       "    <tr>\n",
       "      <th>7755</th>\n",
       "      <td>657</td>\n",
       "      <td>Rieng</td>\n",
       "      <td>I-commune_khum</td>\n",
       "    </tr>\n",
       "    <tr>\n",
       "      <th>7756</th>\n",
       "      <td>657</td>\n",
       "      <td>,</td>\n",
       "      <td>O</td>\n",
       "    </tr>\n",
       "    <tr>\n",
       "      <th>7757</th>\n",
       "      <td>657</td>\n",
       "      <td>Bavet</td>\n",
       "      <td>B-district_srok</td>\n",
       "    </tr>\n",
       "    <tr>\n",
       "      <th>7758</th>\n",
       "      <td>657</td>\n",
       "      <td>,</td>\n",
       "      <td>O</td>\n",
       "    </tr>\n",
       "    <tr>\n",
       "      <th>7759</th>\n",
       "      <td>657</td>\n",
       "      <td>Svay</td>\n",
       "      <td>B-city_province</td>\n",
       "    </tr>\n",
       "    <tr>\n",
       "      <th>7760</th>\n",
       "      <td>657</td>\n",
       "      <td>Rieng</td>\n",
       "      <td>I-city_province</td>\n",
       "    </tr>\n",
       "    <tr>\n",
       "      <th>7761</th>\n",
       "      <td>657</td>\n",
       "      <td>Province</td>\n",
       "      <td>I-city_province</td>\n",
       "    </tr>\n",
       "  </tbody>\n",
       "</table>\n",
       "</div>"
      ],
      "text/plain": [
       "      index   address            merge\n",
       "7751    657       Bat   B-village_phum\n",
       "7752    657     Sloek   I-village_phum\n",
       "7753    657         ,                O\n",
       "7754    657      Svay   B-commune_khum\n",
       "7755    657     Rieng   I-commune_khum\n",
       "7756    657         ,                O\n",
       "7757    657     Bavet  B-district_srok\n",
       "7758    657         ,                O\n",
       "7759    657      Svay  B-city_province\n",
       "7760    657     Rieng  I-city_province\n",
       "7761    657  Province  I-city_province"
      ]
     },
     "execution_count": 48,
     "metadata": {},
     "output_type": "execute_result"
    }
   ],
   "source": [
    "max_row_pd(10000)\n",
    "join_df.query('index == 657')"
   ]
  },
  {
   "cell_type": "code",
   "execution_count": 49,
   "metadata": {},
   "outputs": [],
   "source": [
    "# join_df.to_excel('address_iob.xlsx', index=False)"
   ]
  },
  {
   "cell_type": "code",
   "execution_count": 50,
   "metadata": {},
   "outputs": [],
   "source": [
    "df = pd.read_excel('address_iob.xlsx', keep_default_na=False)"
   ]
  },
  {
   "cell_type": "code",
   "execution_count": 51,
   "metadata": {},
   "outputs": [],
   "source": [
    "new = df['tag'].drop_duplicates().sort_values().reset_index()"
   ]
  },
  {
   "cell_type": "code",
   "execution_count": 52,
   "metadata": {},
   "outputs": [],
   "source": [
    "new = pd.DataFrame(new).reset_index()"
   ]
  },
  {
   "cell_type": "code",
   "execution_count": 53,
   "metadata": {},
   "outputs": [],
   "source": [
    "new.insert(0, 'tag_id', range(1, 1 + len(new)))"
   ]
  },
  {
   "cell_type": "code",
   "execution_count": 55,
   "metadata": {},
   "outputs": [],
   "source": [
    "dic = new[['tag_id', 'tag']].set_index('tag').to_dict()"
   ]
  },
  {
   "cell_type": "code",
   "execution_count": 56,
   "metadata": {},
   "outputs": [
    {
     "data": {
      "text/plain": [
       "{'tag_id': {'B-city_province': 1,\n",
       "  'B-commune_khum': 2,\n",
       "  'B-district_srok': 3,\n",
       "  'B-house_no': 4,\n",
       "  'B-street_no': 5,\n",
       "  'B-village_phum': 6,\n",
       "  'I-city_province': 7,\n",
       "  'I-commune_khum': 8,\n",
       "  'I-district_srok': 9,\n",
       "  'I-house_no': 10,\n",
       "  'I-street_no': 11,\n",
       "  'I-village_phum': 12,\n",
       "  'O': 13}}"
      ]
     },
     "execution_count": 56,
     "metadata": {},
     "output_type": "execute_result"
    }
   ],
   "source": [
    "dic"
   ]
  },
  {
   "cell_type": "code",
   "execution_count": 58,
   "metadata": {},
   "outputs": [],
   "source": [
    "merge = pd.merge(left=new, right=df, how='right')"
   ]
  },
  {
   "cell_type": "code",
   "execution_count": 59,
   "metadata": {},
   "outputs": [],
   "source": [
    "merge[['sentence_idx', 'word', 'tag_id', 'tag']].to_excel('address_iob_tensor_format.xlsx')"
   ]
  }
 ],
 "metadata": {
  "kernelspec": {
   "display_name": "Python 3.9.12 ('mypy')",
   "language": "python",
   "name": "python3"
  },
  "language_info": {
   "codemirror_mode": {
    "name": "ipython",
    "version": 3
   },
   "file_extension": ".py",
   "mimetype": "text/x-python",
   "name": "python",
   "nbconvert_exporter": "python",
   "pygments_lexer": "ipython3",
   "version": "3.9.12"
  },
  "orig_nbformat": 4,
  "vscode": {
   "interpreter": {
    "hash": "ff872530eef8e893d9aef85c9079af2769210a77098287e49de53e382973a372"
   }
  }
 },
 "nbformat": 4,
 "nbformat_minor": 2
}
