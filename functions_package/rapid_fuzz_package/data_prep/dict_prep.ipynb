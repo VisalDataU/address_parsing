{
 "cells": [
  {
   "cell_type": "code",
   "execution_count": 1,
   "metadata": {},
   "outputs": [],
   "source": [
    "import pandas as pd"
   ]
  },
  {
   "cell_type": "code",
   "execution_count": 2,
   "metadata": {},
   "outputs": [],
   "source": [
    "df = pd.read_csv(\"Geo_Cambo_v2.csv\", dtype=str)"
   ]
  },
  {
   "cell_type": "code",
   "execution_count": 3,
   "metadata": {},
   "outputs": [],
   "source": [
    "df = df.replace(\"-\", \" \", regex=True)\n",
    "df = df.apply(lambda x: x.astype(str).str.lower())"
   ]
  },
  {
   "cell_type": "code",
   "execution_count": 4,
   "metadata": {},
   "outputs": [
    {
     "data": {
      "text/plain": [
       "Index(['com_id', 'com_com', 'dis_id', 'dis_name', 'pro_id', 'pro_name',\n",
       "       'village_id', 'village_name'],\n",
       "      dtype='object')"
      ]
     },
     "execution_count": 4,
     "metadata": {},
     "output_type": "execute_result"
    }
   ],
   "source": [
    "df.columns"
   ]
  },
  {
   "cell_type": "code",
   "execution_count": 5,
   "metadata": {},
   "outputs": [],
   "source": [
    "village = dict(list(zip(df['village_id'], df['village_name'])))\n",
    "commune = dict(list(zip(df['com_id'], df['com_com'])))\n",
    "district = dict(list(zip(df['dis_id'], df['dis_name'])))\n",
    "province = dict(list(zip(df['pro_id'], df['pro_name'])))"
   ]
  },
  {
   "cell_type": "code",
   "execution_count": 7,
   "metadata": {},
   "outputs": [],
   "source": [
    "import json \n",
    "def dict_to_json(dic, path):\n",
    "    with open(path, \"w\") as outfile:\n",
    "        json.dump(dic, outfile)"
   ]
  },
  {
   "cell_type": "code",
   "execution_count": 10,
   "metadata": {},
   "outputs": [],
   "source": [
    "dict_to_json(village, \"../data/village.json\")\n",
    "dict_to_json(commune, \"../data/commune.json\")\n",
    "dict_to_json(district, \"../data/district.json\")\n",
    "dict_to_json(province, \"../data/province.json\")"
   ]
  }
 ],
 "metadata": {
  "kernelspec": {
   "display_name": "Python 3.7.13 ('keras')",
   "language": "python",
   "name": "python3"
  },
  "language_info": {
   "codemirror_mode": {
    "name": "ipython",
    "version": 3
   },
   "file_extension": ".py",
   "mimetype": "text/x-python",
   "name": "python",
   "nbconvert_exporter": "python",
   "pygments_lexer": "ipython3",
   "version": "3.7.13"
  },
  "orig_nbformat": 4,
  "vscode": {
   "interpreter": {
    "hash": "8912e3ad7c5e026708f8b27cba7559858cf73cfb4bfe2cb0d99893633cd7181e"
   }
  }
 },
 "nbformat": 4,
 "nbformat_minor": 2
}
