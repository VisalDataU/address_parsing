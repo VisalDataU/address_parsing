{
 "cells": [
  {
   "cell_type": "code",
   "execution_count": null,
   "metadata": {},
   "outputs": [],
   "source": [
    "import sys\n",
    "sys.path.append('./')\n",
    "from functions import get_property_type_pd, load_json, get_property_type_pd_rapid_fuzz, import_vocab, df_to_list, matching_rapid_fuzz\n",
    "import pandas as pd\n",
    "from rapidfuzz import process, fuzz"
   ]
  },
  {
   "cell_type": "code",
   "execution_count": null,
   "metadata": {},
   "outputs": [],
   "source": [
    "from sqlalchemy import create_engine\n",
    "from sqlalchemy.engine.url import URL\n",
    "# import psycopg2\n",
    "# import sys\n",
    "# from os import environ\n",
    "\n",
    "# config = dict(\n",
    "#     drivername='postgresql+psycopg2',\n",
    "#     username='postgres',\n",
    "#     password='Z1@$2020',\n",
    "#     host='192.168.22.131',\n",
    "#     port='5432',\n",
    "#     database='Z1_Data_Science',\n",
    "# )\n",
    "\n",
    "config = dict(\n",
    "    drivername='postgresql+psycopg2',\n",
    "    username='postgres',\n",
    "    password='1234',\n",
    "    host='localhost',\n",
    "    port='5432',\n",
    "    database='postgres',\n",
    ")\n",
    "\n",
    "url = URL.create(**config)\n",
    "print(url)\n",
    "engine = create_engine(url)"
   ]
  },
  {
   "cell_type": "code",
   "execution_count": null,
   "metadata": {},
   "outputs": [],
   "source": [
    "# df = pd.read_json(\"../1. raw/v2/77_opirealty_v2.json\")\n",
    "df = pd.read_sql_query(\"\"\"SELECT *\n",
    "                            FROM properties\"\"\", con=engine)"
   ]
  },
  {
   "cell_type": "code",
   "execution_count": null,
   "metadata": {},
   "outputs": [],
   "source": [
    "# output = get_property_type_pd_rapid_fuzz(\n",
    "#     df=df,\n",
    "#     col=\"current_use\"\n",
    "# )"
   ]
  },
  {
   "cell_type": "code",
   "execution_count": null,
   "metadata": {},
   "outputs": [],
   "source": [
    "output = get_property_type_pd(df, 'current_use')"
   ]
  },
  {
   "cell_type": "code",
   "execution_count": null,
   "metadata": {},
   "outputs": [],
   "source": [
    "# print(output[['current_use', 'property_category', 'property_sector', 'property_type', 'record_type_y']].value_counts())"
   ]
  },
  {
   "cell_type": "code",
   "execution_count": null,
   "metadata": {},
   "outputs": [],
   "source": [
    "print(output[['current_use', 'property_category']].value_counts())"
   ]
  }
 ],
 "metadata": {
  "kernelspec": {
   "display_name": "Python 3.7.13 ('keras')",
   "language": "python",
   "name": "python3"
  },
  "language_info": {
   "codemirror_mode": {
    "name": "ipython",
    "version": 3
   },
   "file_extension": ".py",
   "mimetype": "text/x-python",
   "name": "python",
   "nbconvert_exporter": "python",
   "pygments_lexer": "ipython3",
   "version": "3.7.13"
  },
  "orig_nbformat": 4,
  "vscode": {
   "interpreter": {
    "hash": "8912e3ad7c5e026708f8b27cba7559858cf73cfb4bfe2cb0d99893633cd7181e"
   }
  }
 },
 "nbformat": 4,
 "nbformat_minor": 2
}
