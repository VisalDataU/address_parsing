{
 "cells": [
  {
   "cell_type": "code",
   "execution_count": null,
   "metadata": {},
   "outputs": [],
   "source": [
    "import pandas as pd\n",
    "from sqlalchemy import create_engine\n",
    "from sqlalchemy.engine.url import URL\n",
    "\n",
    "# create connection to the database\n",
    "config = dict(\n",
    "    drivername='postgresql+psycopg2',\n",
    "    username='postgres',\n",
    "    password='1234',\n",
    "    host='localhost',\n",
    "    port='5432',\n",
    "    database='postgres',\n",
    ")\n",
    "url = URL.create(**config)\n",
    "print(url)\n",
    "engine = create_engine(url, echo=True)"
   ]
  },
  {
   "cell_type": "code",
   "execution_count": null,
   "metadata": {},
   "outputs": [],
   "source": [
    "df = pd.read_sql_query(\n",
    "    \"\"\"SELECT *\n",
    "        FROM properties_parsed_address_v2\"\"\",\n",
    "    con=engine\n",
    ")"
   ]
  },
  {
   "cell_type": "code",
   "execution_count": null,
   "metadata": {},
   "outputs": [],
   "source": [
    "df['latitude'] = pd.to_numeric(df['latitude'], errors='coerce')\n",
    "df['longitude'] = pd.to_numeric(df['longitude'], errors='coerce')"
   ]
  },
  {
   "cell_type": "code",
   "execution_count": null,
   "metadata": {},
   "outputs": [],
   "source": [
    "from reverse_geocode import *"
   ]
  },
  {
   "cell_type": "code",
   "execution_count": null,
   "metadata": {},
   "outputs": [],
   "source": [
    "output = extract_address_ents(df, 'longitude', 'latitude')"
   ]
  },
  {
   "cell_type": "code",
   "execution_count": null,
   "metadata": {},
   "outputs": [],
   "source": [
    "output.info(verbose=True)"
   ]
  },
  {
   "cell_type": "code",
   "execution_count": null,
   "metadata": {},
   "outputs": [],
   "source": [
    "pd.set_option('display.max_rows', 5000)\n",
    "output[(output['dis_name'].str.lower() != output['parsed_district'].str.lower()) & output['full_address'].isna()][['full_address', 'id_left', 'dis_name', 'parsed_district']].head(5000)"
   ]
  },
  {
   "cell_type": "code",
   "execution_count": null,
   "metadata": {},
   "outputs": [],
   "source": [
    "pd.set_option('max_colwidth', 800)\n",
    "susbet = output[['full_address', 'id_left', 'id_right', 'parsed_commune', 'com_name', 'dis_name', 'pro_name']].sort_values(by='id_left')"
   ]
  },
  {
   "cell_type": "code",
   "execution_count": null,
   "metadata": {},
   "outputs": [],
   "source": [
    "pd.set_option('display.max_rows', 5000)\n",
    "len(output[output['parsed_commune'] != output['com_name']])"
   ]
  },
  {
   "cell_type": "code",
   "execution_count": null,
   "metadata": {},
   "outputs": [],
   "source": [
    "len(output[output['parsed_district'] != output['dis_name']][['parsed_district', 'dis_name']])"
   ]
  },
  {
   "cell_type": "code",
   "execution_count": null,
   "metadata": {},
   "outputs": [],
   "source": [
    "pd.set_option('display.max_rows', 5000)\n",
    "output[output['parsed_province'] != output['pro_name']][['parsed_province', 'pro_name']].value_counts()"
   ]
  },
  {
   "cell_type": "code",
   "execution_count": null,
   "metadata": {},
   "outputs": [],
   "source": [
    "# pd.merge(df,output,left_on='id',right_on='id_right').info(verbose=True)"
   ]
  },
  {
   "cell_type": "code",
   "execution_count": null,
   "metadata": {},
   "outputs": [],
   "source": [
    "# pd.set_option('display.max_rows', 5000)\n",
    "# pd.set_option('max_colwidth', 800)\n",
    "# output[['full_address','village_name', 'com_name', 'dis_name', 'pro_name', 'id_left', 'id_right', 'index', 'index_right']].sort_values(by='index').head(5000)"
   ]
  },
  {
   "cell_type": "code",
   "execution_count": null,
   "metadata": {},
   "outputs": [],
   "source": [
    "# final[['id_left', 'phum_id', 'com_id', 'dis_id', 'pro_id',\n",
    "# 'village_name', 'com_name', 'dis_name', 'pro_name']]"
   ]
  },
  {
   "cell_type": "code",
   "execution_count": null,
   "metadata": {},
   "outputs": [],
   "source": [
    "# pd.set_option('display.max_rows', 5000)\n",
    "# pd.set_option('max_colwidth', 800)\n",
    "# # output[['full_address', 'village_name', 'com_name', 'dis_name', 'pro_name']][output['pro_name'].notnull()].head(5000)\n",
    "# output[['full_address', 'com_name', 'parsed_commune']][output['pro_name'].notnull()].head(5000)"
   ]
  },
  {
   "cell_type": "code",
   "execution_count": null,
   "metadata": {},
   "outputs": [],
   "source": [
    "# error_geom = view_non_legit_geom(df, 'longitude', 'latitude')"
   ]
  },
  {
   "cell_type": "code",
   "execution_count": null,
   "metadata": {},
   "outputs": [],
   "source": [
    "# pd.set_option('display.max_rows', 500)\n",
    "# pd.set_option('display.float_format', lambda x: '%.5f' % x)\n",
    "# error_geom[['latitude', 'longitude']].head(300)"
   ]
  }
 ],
 "metadata": {
  "kernelspec": {
   "display_name": "Python 3.7.13 ('keras')",
   "language": "python",
   "name": "python3"
  },
  "language_info": {
   "codemirror_mode": {
    "name": "ipython",
    "version": 3
   },
   "file_extension": ".py",
   "mimetype": "text/x-python",
   "name": "python",
   "nbconvert_exporter": "python",
   "pygments_lexer": "ipython3",
   "version": "3.7.13"
  },
  "orig_nbformat": 4,
  "vscode": {
   "interpreter": {
    "hash": "8912e3ad7c5e026708f8b27cba7559858cf73cfb4bfe2cb0d99893633cd7181e"
   }
  }
 },
 "nbformat": 4,
 "nbformat_minor": 2
}
