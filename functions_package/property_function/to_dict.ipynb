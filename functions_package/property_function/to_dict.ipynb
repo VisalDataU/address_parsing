{
 "cells": [
  {
   "cell_type": "code",
   "execution_count": 1,
   "metadata": {},
   "outputs": [],
   "source": [
    "import pandas as pd"
   ]
  },
  {
   "cell_type": "code",
   "execution_count": 2,
   "metadata": {},
   "outputs": [],
   "source": [
    "df = pd.read_excel(\"property_types_v3.xlsx\", dtype=str)"
   ]
  },
  {
   "cell_type": "code",
   "execution_count": 3,
   "metadata": {},
   "outputs": [],
   "source": [
    "df = df.replace(\"-\", \" \", regex=True)"
   ]
  },
  {
   "cell_type": "code",
   "execution_count": 4,
   "metadata": {},
   "outputs": [],
   "source": [
    "df = df.apply(lambda x: x.astype(str).str.lower())"
   ]
  },
  {
   "cell_type": "code",
   "execution_count": 5,
   "metadata": {},
   "outputs": [
    {
     "data": {
      "text/html": [
       "<div>\n",
       "<style scoped>\n",
       "    .dataframe tbody tr th:only-of-type {\n",
       "        vertical-align: middle;\n",
       "    }\n",
       "\n",
       "    .dataframe tbody tr th {\n",
       "        vertical-align: top;\n",
       "    }\n",
       "\n",
       "    .dataframe thead th {\n",
       "        text-align: right;\n",
       "    }\n",
       "</style>\n",
       "<table border=\"1\" class=\"dataframe\">\n",
       "  <thead>\n",
       "    <tr style=\"text-align: right;\">\n",
       "      <th></th>\n",
       "      <th>propert_checker</th>\n",
       "      <th>property_category</th>\n",
       "      <th>pc_id</th>\n",
       "      <th>Property Sector</th>\n",
       "      <th>ps_id</th>\n",
       "      <th>Property Type</th>\n",
       "      <th>pt_id</th>\n",
       "      <th>Record Type</th>\n",
       "      <th>rt_id</th>\n",
       "    </tr>\n",
       "  </thead>\n",
       "  <tbody>\n",
       "    <tr>\n",
       "      <th>125</th>\n",
       "      <td>terraced house (flat house)</td>\n",
       "      <td>linked house</td>\n",
       "      <td>030516135</td>\n",
       "      <td>landed house</td>\n",
       "      <td>030516</td>\n",
       "      <td>residential</td>\n",
       "      <td>0305</td>\n",
       "      <td>land and building</td>\n",
       "      <td>03</td>\n",
       "    </tr>\n",
       "  </tbody>\n",
       "</table>\n",
       "</div>"
      ],
      "text/plain": [
       "                 propert_checker property_category      pc_id Property Sector  \\\n",
       "125  terraced house (flat house)      linked house  030516135    landed house   \n",
       "\n",
       "      ps_id Property Type pt_id        Record Type rt_id  \n",
       "125  030516   residential  0305  land and building    03  "
      ]
     },
     "execution_count": 5,
     "metadata": {},
     "output_type": "execute_result"
    }
   ],
   "source": [
    "df[df['propert_checker'] == 'terraced house (flat house)']"
   ]
  },
  {
   "cell_type": "code",
   "execution_count": 6,
   "metadata": {},
   "outputs": [
    {
     "data": {
      "text/plain": [
       "{'01': 'land', '02': 'building', '03': 'land and building'}"
      ]
     },
     "execution_count": 6,
     "metadata": {},
     "output_type": "execute_result"
    }
   ],
   "source": [
    "dict(list(zip(df[\"rt_id\"], df[\"Record Type\"])))"
   ]
  },
  {
   "cell_type": "code",
   "execution_count": 7,
   "metadata": {},
   "outputs": [],
   "source": [
    "property_lookup = dict(list(zip(df[\"pc_id\"], df[\"propert_checker\"])))\n",
    "property_category = dict(list(zip(df[\"pc_id\"], df[\"property_category\"])))\n",
    "Property_Sector = dict(list(zip(df[\"ps_id\"], df[\"Property Sector\"])))\n",
    "Property_Type = dict(list(zip(df[\"pt_id\"], df[\"Property Type\"])))\n",
    "Record_Type = dict(list(zip(df[\"rt_id\"], df[\"Record Type\"])))"
   ]
  },
  {
   "cell_type": "code",
   "execution_count": 9,
   "metadata": {},
   "outputs": [],
   "source": [
    "import json \n",
    "def dict_to_json(dic, path):\n",
    "    with open(path, \"w\") as outfile:\n",
    "        json.dump(dic, outfile)"
   ]
  },
  {
   "cell_type": "code",
   "execution_count": 10,
   "metadata": {},
   "outputs": [],
   "source": [
    "dict_to_json(property_lookup, \"./data_v3/property_lookup.json\")\n",
    "dict_to_json(property_category, \"./data_v3/4_property_category.json\")\n",
    "dict_to_json(Property_Sector, \"./data_v3/3_property_sector.json\")\n",
    "dict_to_json(Property_Type, \"./data_v3/2_property_type.json\")\n",
    "dict_to_json(Record_Type, \"./data_v3/1_record_type.json\")"
   ]
  }
 ],
 "metadata": {
  "kernelspec": {
   "display_name": "Python 3.10.4 ('cleaning')",
   "language": "python",
   "name": "python3"
  },
  "language_info": {
   "codemirror_mode": {
    "name": "ipython",
    "version": 3
   },
   "file_extension": ".py",
   "mimetype": "text/x-python",
   "name": "python",
   "nbconvert_exporter": "python",
   "pygments_lexer": "ipython3",
   "version": "3.10.4"
  },
  "orig_nbformat": 4,
  "vscode": {
   "interpreter": {
    "hash": "7a429b899a2bef114ed23c421b4400ae910c1795fb4536d8b72c272c53c47d5f"
   }
  }
 },
 "nbformat": 4,
 "nbformat_minor": 2
}
